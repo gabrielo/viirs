{
 "metadata": {
  "name": "",
  "signature": "sha256:d52dc445a8745ad2e3021f6c16841619e95f6394e011de4d1772f28e449cba90"
 },
 "nbformat": 3,
 "nbformat_minor": 0,
 "worksheets": [
  {
   "cells": [
    {
     "cell_type": "code",
     "collapsed": false,
     "input": [
      "import array, csv, math, time\n",
      "from datetime import timedelta, date\n",
      "\n",
      "def DateRange(start_date, end_date):\n",
      "    for n in range(int ((end_date - start_date).days)):\n",
      "        yield start_date + timedelta(n)\n",
      "\n",
      "def LngLatToWebMercator(lnglat, scale = 1.):\n",
      "    (lng, lat) = lnglat\n",
      "    x = (lng + 180.0) * 256.0 / 360.0\n",
      "    y = 128.0 - math.log(math.tan((lat + 90.0) * math.pi / 360.0)) * 128.0 / math.pi\n",
      "    return [x*scale, y*scale]\n",
      "\n",
      "\n",
      "def FormatFilename(year_str, date_str):\n",
      "    return \"%s/VNF_npp_d%s_noaa_v21.ez.csv\" % (year_str, date_str)\n",
      "\n",
      "def ProcessFile(filename):\n",
      "    data = []\n",
      "    with open(filename) as csvfile:\n",
      "        reader = csv.DictReader(csvfile)\n",
      "        for row in reader:\n",
      "            qf_fit = int(row['QF_Fit'])\n",
      "            temp_bb = int(row['Temp_BB'])        \n",
      "            if qf_fit >= 34 and temp_bb >= 500 and temp_bb <= 3000 and temp_bb != 1800:\n",
      "                lat = float(row['Lat_GMTCO'])\n",
      "                lng = float(row['Lon_GMTCO'])\n",
      "                x,y = LngLatToWebMercator((lng, lat))            \n",
      "                date_mscan = row['Date_Mscan'].split(\".\")[0]\n",
      "                epoch = time.mktime(time.strptime(date_mscan, \"%Y/%m/%d %H:%M:%S\"))\n",
      "                data += [x,y,epoch]\n",
      "    return data\n"
     ],
     "language": "python",
     "metadata": {},
     "outputs": [],
     "prompt_number": 40
    },
    {
     "cell_type": "code",
     "collapsed": false,
     "input": [
      "cmd = \"gunzip 2016/*\"\n",
      "!$cmd"
     ],
     "language": "python",
     "metadata": {},
     "outputs": [],
     "prompt_number": 2
    },
    {
     "cell_type": "code",
     "collapsed": false,
     "input": [
      "points = []\n",
      "start_date = date(2016, 1, 1)\n",
      "end_date = date(2017, 1, 1)\n",
      "for single_date in DateRange(start_date, end_date):\n",
      "    year_str = single_date.strftime(\"%Y\")\n",
      "    date_str = single_date.strftime(\"%Y%m%d\")\n",
      "    filename = FormatFilename(year_str, date_str)\n",
      "    points += ProcessFile(filename)\n",
      "array.array('f', points).tofile(open(\"viirs-2016.bin\", 'w'))\n"
     ],
     "language": "python",
     "metadata": {},
     "outputs": [],
     "prompt_number": 43
    },
    {
     "cell_type": "code",
     "collapsed": false,
     "input": [
      "len(points)/3"
     ],
     "language": "python",
     "metadata": {},
     "outputs": [
      {
       "metadata": {},
       "output_type": "pyout",
       "prompt_number": 45,
       "text": [
        "2217716"
       ]
      }
     ],
     "prompt_number": 45
    },
    {
     "cell_type": "code",
     "collapsed": false,
     "input": [],
     "language": "python",
     "metadata": {},
     "outputs": []
    }
   ],
   "metadata": {}
  }
 ]
}