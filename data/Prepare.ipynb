{
 "metadata": {
  "name": "",
  "signature": "sha256:7ee8899a472c482849b3cbe7cf041b74a704a50f85366562cedad877ea7ce141"
 },
 "nbformat": 3,
 "nbformat_minor": 0,
 "worksheets": [
  {
   "cells": [
    {
     "cell_type": "code",
     "collapsed": false,
     "input": [
      "import array, csv, math, os, time\n",
      "from datetime import timedelta, date\n",
      "\n",
      "def DateRange(start_date, end_date):\n",
      "    for n in range(int ((end_date - start_date).days)):\n",
      "        yield start_date + timedelta(n)\n",
      "\n",
      "def LngLatToWebMercator(lnglat, scale = 1.):\n",
      "    (lng, lat) = lnglat\n",
      "    x = (lng + 180.0) * 256.0 / 360.0\n",
      "    y = 128.0 - math.log(math.tan((lat + 90.0) * math.pi / 360.0)) * 128.0 / math.pi\n",
      "    return [x*scale, y*scale]\n",
      "\n",
      "\n",
      "def FormatFilename(year_str, date_str):\n",
      "    return \"%s/VNF_npp_d%s_noaa_v21.ez.csv\" % (year_str, date_str)\n",
      "\n",
      "def ProcessFile(filename):\n",
      "    data = []\n",
      "    if os.path.exists(filename):\n",
      "        with open(filename) as csvfile:\n",
      "            reader = csv.DictReader(csvfile)\n",
      "            for row in reader:\n",
      "                qf_fit = int(row['QF_Fit'])\n",
      "                temp_bb = int(row['Temp_BB'])        \n",
      "                if qf_fit >= 34 and temp_bb >= 500 and temp_bb <= 3000 and temp_bb != 1800:\n",
      "                    lat = float(row['Lat_GMTCO'])\n",
      "                    lng = float(row['Lon_GMTCO'])\n",
      "                    x,y = LngLatToWebMercator((lng, lat))            \n",
      "                    date_mscan = row['Date_Mscan'].split(\".\")[0]\n",
      "                    epoch = time.mktime(time.strptime(date_mscan, \"%Y/%m/%d %H:%M:%S\"))\n",
      "                    data += [x,y,epoch]\n",
      "    return data\n"
     ],
     "language": "python",
     "metadata": {},
     "outputs": []
    },
    {
     "cell_type": "code",
     "collapsed": false,
     "input": [
      "cmd = \"gunzip 2016/*\"\n",
      "!$cmd"
     ],
     "language": "python",
     "metadata": {},
     "outputs": []
    },
    {
     "cell_type": "code",
     "collapsed": false,
     "input": [
      "points = []\n",
      "start_date = date(2016, 1, 1)\n",
      "end_date = date(2017, 1, 1)\n",
      "for single_date in DateRange(start_date, end_date):\n",
      "    year_str = single_date.strftime(\"%Y\")\n",
      "    date_str = single_date.strftime(\"%Y%m%d\")\n",
      "    filename = FormatFilename(year_str, date_str)\n",
      "    points += ProcessFile(filename)\n",
      "array.array('f', points).tofile(open(\"viirs-2016.bin\", 'w'))\n"
     ],
     "language": "python",
     "metadata": {},
     "outputs": []
    },
    {
     "cell_type": "code",
     "collapsed": false,
     "input": [
      "len(points)/3"
     ],
     "language": "python",
     "metadata": {},
     "outputs": []
    },
    {
     "cell_type": "code",
     "collapsed": false,
     "input": [
      "cmd = \"gunzip 2012/*\"\n",
      "!$cmd"
     ],
     "language": "python",
     "metadata": {},
     "outputs": []
    },
    {
     "cell_type": "code",
     "collapsed": false,
     "input": [
      "cmd = \"gunzip 2013/*\"\n",
      "!$cmd"
     ],
     "language": "python",
     "metadata": {},
     "outputs": []
    },
    {
     "cell_type": "code",
     "collapsed": false,
     "input": [
      "cmd = \"gunzip 2014/*\"\n",
      "!$cmd"
     ],
     "language": "python",
     "metadata": {},
     "outputs": []
    },
    {
     "cell_type": "code",
     "collapsed": false,
     "input": [
      "cmd = \"gunzip 2015/*\"\n",
      "!$cmd"
     ],
     "language": "python",
     "metadata": {},
     "outputs": []
    },
    {
     "cell_type": "code",
     "collapsed": false,
     "input": [
      "cmd = \"gunzip 2017/*\"\n",
      "!$cmd"
     ],
     "language": "python",
     "metadata": {},
     "outputs": []
    },
    {
     "cell_type": "code",
     "collapsed": false,
     "input": [
      "# Create monthly slices of the data\n",
      "points = []\n",
      "start_date = date(2012, 3, 1)\n",
      "end_date = date(2017, 4, 1)\n",
      "file_name = \"2012_03\"\n",
      "for single_date in DateRange(start_date, end_date):\n",
      "    year_str = single_date.strftime(\"%Y\")\n",
      "    month_str = single_date.strftime(\"%m\")\n",
      "    date_str = single_date.strftime(\"%Y%m%d\")\n",
      "    if file_name != \"%s_%s\" % (year_str, month_str):\n",
      "        array.array('f', points).tofile(open(\"viirs-%s.bin\" % file_name, 'w'))\n",
      "        points = []\n",
      "        file_name = \"%s_%s\" % (year_str, month_str)\n",
      "    filename = FormatFilename(year_str, date_str)\n",
      "    points += ProcessFile(filename)\n",
      "array.array('f', points).tofile(open(\"viirs-%s.bin\" % file_name, 'w'))"
     ],
     "language": "python",
     "metadata": {},
     "outputs": []
    },
    {
     "cell_type": "code",
     "collapsed": false,
     "input": [],
     "language": "python",
     "metadata": {},
     "outputs": []
    }
   ],
   "metadata": {}
  }
 ]
}