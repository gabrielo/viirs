{
 "cells": [
  {
   "cell_type": "code",
   "execution_count": null,
   "metadata": {
    "collapsed": true
   },
   "outputs": [],
   "source": [
    "import array, csv, math, os, time\n",
    "from datetime import timedelta, date, datetime\n",
    "\n",
    "def DateRange(start_date, end_date):\n",
    "    for n in range(int ((end_date - start_date).days)):\n",
    "        yield start_date + timedelta(n)\n",
    "\n",
    "def LngLatToWebMercator(lnglat, scale = 1.):\n",
    "    (lng, lat) = lnglat\n",
    "    x = (lng + 180.0) * 256.0 / 360.0\n",
    "    y = 128.0 - math.log(math.tan((lat + 90.0) * math.pi / 360.0)) * 128.0 / math.pi\n",
    "    return [x*scale, y*scale]\n",
    "\n",
    "\n",
    "def FormatFilename(year_str, date_str):\n",
    "    return \"%s/VNF_npp_d%s_noaa_v21.ez.csv\" % (year_str, date_str)\n",
    "\n",
    "def ProcessFile(filename):\n",
    "    data = []\n",
    "    if os.path.exists(filename):\n",
    "        with open(filename) as csvfile:\n",
    "            reader = csv.DictReader(csvfile)\n",
    "            for row in reader:\n",
    "                qf_fit = int(row['QF_Fit'])\n",
    "                temp_bb = int(row['Temp_BB'])        \n",
    "                if qf_fit >= 34 and temp_bb >= 500 and temp_bb <= 3000 and temp_bb != 1800:\n",
    "                    lat = float(row['Lat_GMTCO'])\n",
    "                    lng = float(row['Lon_GMTCO'])\n",
    "                    x,y = LngLatToWebMercator((lng, lat))            \n",
    "                    date_mscan = row['Date_Mscan'].split(\".\")[0]\n",
    "                    epoch = time.mktime(time.strptime(date_mscan, \"%Y/%m/%d %H:%M:%S\"))\n",
    "                    data += [x,y,epoch]\n",
    "    return data\n",
    "\n",
    "def CreateIndex(points):\n",
    "    index = {}\n",
    "    for epoch in points[2::3]:\n",
    "        d = datetime.fromtimestamp(epoch)\n",
    "        idx = str(d.year) + str(d.month).zfill(2)\n",
    "        if idx not in index:\n",
    "            index[idx] = {'count': 0}\n",
    "        index[idx]['count'] += 1\n",
    "\n",
    "    first = 0\n",
    "    for idx in sorted(index.keys()):\n",
    "        index[idx]['first'] = first\n",
    "        first += index[idx]['count']\n",
    "    return index"
   ]
  },
  {
   "cell_type": "code",
   "execution_count": null,
   "metadata": {},
   "outputs": [],
   "source": [
    "# Unzip all the years data files\n",
    "for year in range(2012,2018):\n",
    "    cmd = \"gunzip %s/*\" % year\n",
    "    !$cmd\n"
   ]
  },
  {
   "cell_type": "code",
   "execution_count": null,
   "metadata": {
    "collapsed": true
   },
   "outputs": [],
   "source": [
    "# Process a single year\n",
    "points = []\n",
    "start_date = date(2016, 1, 1)\n",
    "end_date = date(2017, 1, 1)\n",
    "for single_date in DateRange(start_date, end_date):\n",
    "    year_str = single_date.strftime(\"%Y\")\n",
    "    date_str = single_date.strftime(\"%Y%m%d\")\n",
    "    filename = FormatFilename(year_str, date_str)\n",
    "    points += ProcessFile(filename)\n",
    "array.array('f', points).tofile(open(\"viirs-2016.bin\", 'w'))\n"
   ]
  },
  {
   "cell_type": "code",
   "execution_count": null,
   "metadata": {
    "collapsed": true
   },
   "outputs": [],
   "source": [
    "# Create monthly slices of the data\n",
    "points = []\n",
    "start_date = date(2012, 3, 1)\n",
    "end_date = date(2017, 4, 1)\n",
    "file_name = \"2012_03\"\n",
    "for single_date in DateRange(start_date, end_date):\n",
    "    year_str = single_date.strftime(\"%Y\")\n",
    "    month_str = single_date.strftime(\"%m\")\n",
    "    date_str = single_date.strftime(\"%Y%m%d\")\n",
    "    if file_name != \"%s_%s\" % (year_str, month_str):\n",
    "        array.array('f', points).tofile(open(\"viirs-%s.bin\" % file_name, 'w'))\n",
    "        points = []\n",
    "        file_name = \"%s_%s\" % (year_str, month_str)\n",
    "    filename = FormatFilename(year_str, date_str)\n",
    "    points += ProcessFile(filename)\n",
    "array.array('f', points).tofile(open(\"viirs-%s.bin\" % file_name, 'w'))"
   ]
  },
  {
   "cell_type": "code",
   "execution_count": null,
   "metadata": {
    "collapsed": true
   },
   "outputs": [],
   "source": [
    "# Create yearly\n",
    "points = []\n",
    "start_date = date(2012, 3, 1)\n",
    "end_date = date(2017, 4, 1)\n",
    "for single_date in DateRange(start_date, end_date):\n",
    "    year_str = single_date.strftime(\"%Y\")\n",
    "    date_str = single_date.strftime(\"%Y%m%d\")\n",
    "    filename = FormatFilename(year_str, date_str)\n",
    "    points += ProcessFile(filename)\n",
    "array.array('f', points).tofile(open(\"viirs_2012-2017.bin\", 'w'))\n"
   ]
  },
  {
   "cell_type": "code",
   "execution_count": null,
   "metadata": {
    "collapsed": true
   },
   "outputs": [],
   "source": [
    "# Produce timestamps for GSS\n",
    "dates = []\n",
    "start_date = date(2012, 3, 1)\n",
    "end_date = date(2017, 4, 1)\n",
    "for single_date in DateRange(start_date, end_date):\n",
    "    dates.append('\"' + single_date.strftime(\"%Y-%m-%d\") + '\"')\n",
    "\",\".join(dates)"
   ]
  },
  {
   "cell_type": "code",
   "execution_count": null,
   "metadata": {},
   "outputs": [],
   "source": [
    "# Create yearly\n",
    "points = []\n",
    "start_date = date(2014, 8, 17)\n",
    "end_date = date(2017, 10, 10)\n",
    "for single_date in DateRange(start_date, end_date):\n",
    "    year_str = single_date.strftime(\"%Y\")\n",
    "    date_str = single_date.strftime(\"%Y%m%d\")\n",
    "    filename = FormatFilename(year_str, date_str)\n",
    "    points += ProcessFile(filename)\n",
    "array.array('f', points).tofile(open(\"viirs_20140817-20170917.bin\", 'w'))\n"
   ]
  },
  {
   "cell_type": "code",
   "execution_count": null,
   "metadata": {
    "collapsed": true
   },
   "outputs": [],
   "source": [
    "# Produce indexes timestamps for GSS\n",
    "index = CreateIndex(points)"
   ]
  },
  {
   "cell_type": "code",
   "execution_count": null,
   "metadata": {},
   "outputs": [],
   "source": [
    "index"
   ]
  },
  {
   "cell_type": "code",
   "execution_count": null,
   "metadata": {},
   "outputs": [],
   "source": [
    "# Produce timestamps for GSS\n",
    "dates = []\n",
    "start_date = date(2014, 9, 17)\n",
    "end_date = date(2017, 10, 10)\n",
    "for single_date in DateRange(start_date, end_date):\n",
    "    dates.append('\"' + single_date.strftime(\"%Y-%m-%d\") + '\"')\n",
    "\",\".join(dates)"
   ]
  },
  {
   "cell_type": "code",
   "execution_count": null,
   "metadata": {
    "collapsed": true
   },
   "outputs": [],
   "source": []
  }
 ],
 "metadata": {
  "kernelspec": {
   "display_name": "Python 2",
   "language": "python",
   "name": "python2"
  },
  "language_info": {
   "codemirror_mode": {
    "name": "ipython",
    "version": 2
   },
   "file_extension": ".py",
   "mimetype": "text/x-python",
   "name": "python",
   "nbconvert_exporter": "python",
   "pygments_lexer": "ipython2",
   "version": "2.7.13"
  }
 },
 "nbformat": 4,
 "nbformat_minor": 1
}
