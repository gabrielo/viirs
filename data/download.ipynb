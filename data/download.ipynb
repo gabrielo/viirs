{
 "cells": [
  {
   "cell_type": "code",
   "execution_count": 54,
   "metadata": {},
   "outputs": [],
   "source": [
    "# https://ngdc.noaa.gov/eog/viirs/download_viirs_fire.html\n",
    "import os, sys, urllib2, urlparse\n",
    "from datetime import timedelta, date\n",
    "\n",
    "def mirrorFile(src, dest):\n",
    "    logfile = open(\"mirror-file.txt\", \"a\")\n",
    "    if os.path.exists(dest):\n",
    "        logfile.write('%s already exists, skipping\\n' % dest)\n",
    "        return\n",
    "    try:\n",
    "        os.makedirs(os.path.dirname(dest))\n",
    "    except:\n",
    "        pass\n",
    "    logfile.write('Reading %s\\n' % src)\n",
    "    sys.stdout.flush()\n",
    "    try:\n",
    "        body = urllib2.urlopen(src).read()\n",
    "        open(dest + '.tmp', 'w').write(body)\n",
    "        os.rename(dest + '.tmp', dest)\n",
    "        logfile.write('Mirrored %.1f MB from %s to %s\\n' % (len(body) / 1e6, src, dest))\n",
    "    except:\n",
    "        logfile.write('Error downloading from %s to %s\\n' % (src, dest))\n",
    "\n",
    "def formatsrc(date_str):\n",
    "    return \"https://data.ngdc.noaa.gov/instruments/remote-sensing/passive/spectrometers-radiometers/imaging/viirs/vnf/v21//VNF_npp_d%s_noaa_v21.ez.csv.gz\" % date_str  \n",
    "\n",
    "def formatdest(year_str, date_str):\n",
    "    return \"%s/VNF_npp_d%s_noaa_v21.ez.csv.gz\" % (year_str, date_str)\n",
    "\n",
    "def daterange(start_date, end_date):\n",
    "    for n in range(int ((end_date - start_date).days)):\n",
    "        yield start_date + timedelta(n)\n",
    "\n"
   ]
  },
  {
   "cell_type": "code",
   "execution_count": 57,
   "metadata": {},
   "outputs": [],
   "source": [
    "start_date = date(2012, 1, 1)\n",
    "end_date = date(2017, 4, 1)\n",
    "for single_date in daterange(start_date, end_date):\n",
    "    year_str = single_date.strftime(\"%Y\")\n",
    "    date_str = single_date.strftime(\"%Y%m%d\")\n",
    "    mirrorFile(formatsrc(date_str), formatdest(year_str, date_str))"
   ]
  },
  {
   "cell_type": "code",
   "execution_count": null,
   "metadata": {},
   "outputs": [],
   "source": []
  }
 ],
 "metadata": {
  "kernelspec": {
   "display_name": "Python 2",
   "language": "python",
   "name": "python2"
  },
  "language_info": {
   "codemirror_mode": {
    "name": "ipython",
    "version": 2
   },
   "file_extension": ".py",
   "mimetype": "text/x-python",
   "name": "python",
   "nbconvert_exporter": "python",
   "pygments_lexer": "ipython2",
   "version": "2.7.13"
  }
 },
 "nbformat": 4,
 "nbformat_minor": 1
}
